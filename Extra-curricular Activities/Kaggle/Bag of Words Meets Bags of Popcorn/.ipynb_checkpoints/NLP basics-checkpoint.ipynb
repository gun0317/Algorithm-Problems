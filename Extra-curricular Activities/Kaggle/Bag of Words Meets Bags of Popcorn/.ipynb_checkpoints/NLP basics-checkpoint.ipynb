{
 "cells": [
  {
   "cell_type": "code",
   "execution_count": null,
   "metadata": {},
   "outputs": [],
   "source": [
    "import pandas as pd\n",
    "\"\"\"\n",
    "header = 0 은 파일의 첫 줄에 열 이름이 있음을 의미\n",
    "delimiter = \\t 는 필드가 탭으로 구분됨을 의미\n",
    "quoting = 3은 쌍따옴표 무시하는 태그\n",
    "\"\"\"\n",
    "#QOUTE_MINIMAL (0), QUOTE_ALL (1),\n",
    "#QOUTE_NONNUMERIC (2) or QUOTE_NONE (3).\n",
    "\n",
    "#Labeled data(for learning)\n",
    "train = pd.read_csv('data/labeledTrainData.tsv', \n",
    "                    header = 0, delimiter='\\t', quoting = 3)\n",
    "\n",
    "#Test data(for testing)\n",
    "test = pd.read_csv('data/testData.tsv',\n",
    "                  header = 0, delimiter = '\\t', quoting = 3)\n",
    "train.shape\n",
    "#25000개의 리뷰, 3개의 column"
   ]
  },
  {
   "cell_type": "code",
   "execution_count": null,
   "metadata": {},
   "outputs": [],
   "source": [
    "train.head(4)\n",
    "#train데이터의 일부 (위에서 4개를 미리 봄) tail은 반대\n",
    "#senitment = 0: bad, 1: good"
   ]
  },
  {
   "cell_type": "code",
   "execution_count": null,
   "metadata": {},
   "outputs": [],
   "source": [
    "train.columns.values"
   ]
  },
  {
   "cell_type": "code",
   "execution_count": null,
   "metadata": {},
   "outputs": [],
   "source": [
    "train.describe()\n",
    "#대략적인 데이터 설명"
   ]
  },
  {
   "cell_type": "code",
   "execution_count": null,
   "metadata": {},
   "outputs": [],
   "source": [
    "#train['sentiment'].value_counts()\n",
    "#Column 별 데이터 수 산출"
   ]
  },
  {
   "cell_type": "markdown",
   "metadata": {},
   "source": [
    "train데이터에서 review 칼럼 첫번째 데이터를 700자까지만 출력\n",
    "그 결과, html 태그를 정재할 필요가 있다.(text cleaning, preprocessing)\n",
    "BeautifulSoup으로 HTML 태그 제거\n",
    "알파벳 이외 문자를 공백으로 변경\n",
    "NLTK를 이용해 불용어(stopword: I, my, me 같은 의미 없는 단어)를 제거\n",
    "어간 추출(Stemming)과 음소표기법(Lemmatizing): SnowballStemmer로 어간 추출\n",
    "\n",
    "한글 분석기: 트위터 형태소 분석기 (KoNLPy패키지에 포함됨)를 사용한다."
   ]
  },
  {
   "cell_type": "code",
   "execution_count": null,
   "metadata": {
    "scrolled": true
   },
   "outputs": [],
   "source": [
    "#train['review'][0][:700]\n"
   ]
  },
  {
   "cell_type": "code",
   "execution_count": null,
   "metadata": {},
   "outputs": [],
   "source": [
    "from bs4 import BeautifulSoup\n",
    "\n",
    "example1 = BeautifulSoup(train['review'][0], \"html.parser\")\n",
    "print(train['review'][0][:500])\n",
    "example1.get_text()[:500]\n",
    "\n",
    "#BeautifulSoup을 이용해 html 태그를 지운 결과"
   ]
  },
  {
   "cell_type": "code",
   "execution_count": null,
   "metadata": {},
   "outputs": [
    {
     "data": {
      "text/plain": [
       "' With all this stuff going down at the moment with MJ i ve started listening to his music  watching the odd documentary here and there  watched The Wiz and watched Moonwalker again  Maybe i just want to get a certain insight into this guy who i thought was really cool in the eighties just to maybe make up my mind whether he is guilty or innocent  Moonwalker is part biography  part feature film which i remember going to see at the cinema when it was originally released  Some of it has subtle mess'"
      ]
     },
     "execution_count": 8,
     "metadata": {},
     "output_type": "execute_result"
    }
   ],
   "source": [
    "# 정규표현식을 사용해서 특수문자를 제거\n",
    "import re\n",
    "#소문자와 대문자가 아닌 것은 공백으로 대체(^는 not을 의미)\n",
    "letters_only = re.sub('[^a-zA-Z]',' ', example1.get_text())\n",
    "letters_only[:500]"
   ]
  },
  {
   "cell_type": "code",
   "execution_count": null,
   "metadata": {},
   "outputs": [
    {
     "name": "stdout",
     "output_type": "stream",
     "text": [
      "437\n"
     ]
    },
    {
     "data": {
      "text/plain": [
       "['with',\n",
       " 'all',\n",
       " 'this',\n",
       " 'stuff',\n",
       " 'going',\n",
       " 'down',\n",
       " 'at',\n",
       " 'the',\n",
       " 'moment',\n",
       " 'with']"
      ]
     },
     "execution_count": 9,
     "metadata": {},
     "output_type": "execute_result"
    }
   ],
   "source": [
    "#모두 소문자로 변환\n",
    "lower_case = letters_only.lower()\n",
    "#토큰화해서 words에 다 집어넣음\n",
    "words = lower_case.split()\n",
    "print(len(words))\n",
    "words[:10]"
   ]
  },
  {
   "cell_type": "markdown",
   "metadata": {},
   "source": [
    "# 불용어(stopword) 제거: NLTK 에서 가져옴"
   ]
  },
  {
   "cell_type": "code",
   "execution_count": null,
   "metadata": {},
   "outputs": [
    {
     "data": {
      "text/plain": [
       "['i', 'me', 'my', 'myself', 'we', 'our', 'ours', 'ourselves', 'you', \"you're\"]"
      ]
     },
     "execution_count": 10,
     "metadata": {},
     "output_type": "execute_result"
    }
   ],
   "source": [
    "import nltk\n",
    "from nltk.corpus import stopwords\n",
    "stopwords.words('english')[:10]"
   ]
  },
  {
   "cell_type": "markdown",
   "metadata": {},
   "source": [
    "# 스태밍\n",
    "#스태밍:어간 추출, 형태소 분석\n",
    "#단어의 접사 등 필요없는 부분을 제외하고 어간만 분리 해내는 것\n",
    "#복수형, 과거형, 명사형 등을 기본 단어(어간)으로 분리\n",
    "#ex) fishing, fisher -> fish\n",
    "#nltk안의 몇 가지 stemmer를 사용한다. stemmer마다 결과가 다르다."
   ]
  },
  {
   "cell_type": "code",
   "execution_count": null,
   "metadata": {},
   "outputs": [
    {
     "data": {
      "text/plain": [
       "['with', 'all', 'this', 'stuff', 'go', 'down', 'at', 'the', 'moment', 'with']"
      ]
     },
     "execution_count": 11,
     "metadata": {},
     "output_type": "execute_result"
    }
   ],
   "source": [
    "\n",
    "from nltk.stem.snowball import SnowballStemmer\n",
    "\n",
    "stemmer = SnowballStemmer('english')\n",
    "words = [stemmer.stem(w) for w in words]\n",
    "\n",
    "#여기서는 SnowballStemmer를 사용한다. 처리 결과는:\n",
    "words[:10]"
   ]
  },
  {
   "cell_type": "markdown",
   "metadata": {},
   "source": [
    "# 음소표기법(Lemmatization):\n",
    "'배'같은 동음 이의어를 문맥을 보고 식별할 수 있게 함.\n",
    "동사로 쓰였는지, 명사로 쓰였는지 등을 통해 구분"
   ]
  },
  {
   "cell_type": "code",
   "execution_count": null,
   "metadata": {},
   "outputs": [
    {
     "name": "stdout",
     "output_type": "stream",
     "text": [
      "fly\n",
      "fly\n"
     ]
    },
    {
     "data": {
      "text/plain": [
       "['with', 'all', 'this', 'stuff', 'go', 'down', 'at', 'the', 'moment', 'with']"
      ]
     },
     "execution_count": 12,
     "metadata": {},
     "output_type": "execute_result"
    }
   ],
   "source": [
    "from nltk.stem import WordNetLemmatizer\n",
    "wordnet_lemmatizer = WordNetLemmatizer()\n",
    "\n",
    "#예시:\n",
    "print(wordnet_lemmatizer.lemmatize('fly'))\n",
    "print(wordnet_lemmatizer.lemmatize('flies'))\n",
    "\n",
    "words = [wordnet_lemmatizer.lemmatize(w) for w in words]\n",
    "#처리 후 단어\n",
    "words[:10]\n"
   ]
  },
  {
   "cell_type": "markdown",
   "metadata": {},
   "source": [
    "# 문자열 처리 함수\n",
    "### 위의 기능들을 이용하여 문자열을 처리하는 함수를 별도로 만들어 본다."
   ]
  },
  {
   "cell_type": "code",
   "execution_count": null,
   "metadata": {},
   "outputs": [],
   "source": [
    "def review_to_words(raw_review):\n",
    "    # 1. HTML 태그 제거\n",
    "    review_text = BeautifulSoup(raw_review, 'html.parser').get_text()\n",
    "    # 2. 영문자 아닌 문자는 공백으로\n",
    "    letters_only = re.sub('[^a-zA-Z]',' ', raw_review)\n",
    "    # 3. 대문자를 소문자로 + 토큰화\n",
    "    words = letters_only.lower().split()\n",
    "    # 4. stopwords를 세트 형식으로 만들어서 찾게한다(리스트 보다 빨라서)\n",
    "    stops = set(stopwords.words('english'))\n",
    "    # 5. stopwords 찾아서 제거\n",
    "    meaningful_words = [w for w in  words if not w in stops]\n",
    "    # 6. 어간 추출(스태밍)\n",
    "    stemming_words = [stemmer.stem(w) for w in meaningful_words]\n",
    "    # 7. 공백으로 구분된 문자열로 결합하여 결과를 하나로 리턴\n",
    "    return(' '.join(stemming_words))"
   ]
  },
  {
   "cell_type": "code",
   "execution_count": null,
   "metadata": {},
   "outputs": [
    {
     "data": {
      "text/plain": [
       "'stuff go moment mj start listen music watch odd documentari watch wiz watch moonwalk mayb want get certain insight guy thought realli cool eighti mayb make mind whether guilti innoc moonwalk part biographi part featur film rememb go see cinema origin releas subtl messag mj feel toward press also obvious messag drug bad kay br br visual impress cours michael jackson unless remot like mj anyway go hate find bore may call mj egotist consent make movi mj fan would say made fan true realli nice br br actual featur film bit final start minut exclud smooth crimin sequenc joe pesci convinc psychopath power drug lord want mj dead bad beyond mj overheard plan nah joe pesci charact rant want peopl know suppli drug etc dunno mayb hate mj music br br lot cool thing like mj turn car robot whole speed demon sequenc also director must patienc saint came film kiddi bad sequenc usual director hate work one kid let alon whole bunch perform complex danc scene br br bottom line movi peopl like mj one level anoth think peopl stay away tri give wholesom messag iron mj bestest buddi movi girl michael jackson truli one talent peopl ever grace planet guilti well attent gave subject hmmm well know peopl differ behind close door know fact either extrem nice stupid guy one sickest liar hope latter'"
      ]
     },
     "execution_count": 14,
     "metadata": {},
     "output_type": "execute_result"
    }
   ],
   "source": [
    "clean_review = review_to_words(train['review'][0])\n",
    "#마이클 잭슨 관련 영화 리뷰만 한 번 해봄\n",
    "clean_review"
   ]
  },
  {
   "cell_type": "code",
   "execution_count": null,
   "metadata": {},
   "outputs": [
    {
     "data": {
      "text/plain": [
       "25000"
      ]
     },
     "execution_count": 15,
     "metadata": {},
     "output_type": "execute_result"
    }
   ],
   "source": [
    "num_reviews = train['review'].size\n",
    "num_reviews\n",
    "#분석해야할 리뷰의 수 나열"
   ]
  },
  {
   "cell_type": "markdown",
   "metadata": {},
   "source": [
    "# for 문이나 기타 반복문으로는 오래 걸림 \n",
    "25000개에 3분 정도 - > Multiprocessing 사용 시 45초 정도\n",
    "라는데 무슨 이유에서인지 무한루프 돌아서 그냥 apply 사용\n",
    "https://gist.github.com/yong27/7869662"
   ]
  },
  {
   "cell_type": "code",
   "execution_count": null,
   "metadata": {},
   "outputs": [],
   "source": [
    "\n",
    "# 참고 : https://gist.github.com/yong27/7869662\n",
    "# http://www.racketracer.com/2016/07/06/pandas-in-parallel/\n",
    "from multiprocessing import Pool\n",
    "import numpy as np\n",
    "\n",
    "def _apply_df(args):\n",
    "    df, func, kwargs = args\n",
    "    return df.apply(func, **kwargs)\n",
    "\n",
    "def apply_by_multiprocessing(df, func, **kwargs):\n",
    "    # 키워드 항목 중 workers 파라메터를 꺼냄\n",
    "    workers = kwargs.pop('workers')\n",
    "    # 위에서 가져온 workers 수로 프로세스 풀을 정의\n",
    "    pool = Pool(processes=workers)\n",
    "    # 실행할 함수와 데이터프레임을 워커의 수 만큼 나눠 작업\n",
    "    result = pool.map(_apply_df, [(d, func, kwargs)\n",
    "            for d in np.array_split(df, workers)])\n",
    "    pool.close()\n",
    "    # 작업 결과를 합쳐서 반환\n",
    "    return pd.concat(list(result))"
   ]
  },
  {
   "cell_type": "code",
   "execution_count": null,
   "metadata": {},
   "outputs": [],
   "source": [
    "%time clean_test_reviews = apply_by_multiprocessing(\\\n",
    "    test['review'], review_to_words, workers=4)"
   ]
  },
  {
   "cell_type": "code",
   "execution_count": null,
   "metadata": {},
   "outputs": [],
   "source": []
  }
 ],
 "metadata": {
  "kernelspec": {
   "display_name": "Python 3",
   "language": "python",
   "name": "python3"
  },
  "language_info": {
   "codemirror_mode": {
    "name": "ipython",
    "version": 3
   },
   "file_extension": ".py",
   "mimetype": "text/x-python",
   "name": "python",
   "nbconvert_exporter": "python",
   "pygments_lexer": "ipython3",
   "version": "3.7.1"
  }
 },
 "nbformat": 4,
 "nbformat_minor": 2
}
